{
 "cells": [
  {
   "cell_type": "code",
   "execution_count": 1,
   "metadata": {
    "collapsed": false
   },
   "outputs": [],
   "source": [
    "import pandas as pd\n",
    "import matplotlib.pyplot as plt\n",
    "%matplotlib inline\n",
    "\n",
    "url='https://s3.amazonaws.com/nyc-tlc/trip+data/green_tripdata_2016-01.csv'\n",
    "trips=pd.read_csv(url,index_col='lpep_pickup_datetime',parse_dates=True)\n",
    "#trips.index = pd.to_datetime(trips.index, format='%Y-%d-%m %H:%M:%S')"
   ]
  },
  {
   "cell_type": "code",
   "execution_count": 2,
   "metadata": {
    "collapsed": false
   },
   "outputs": [
    {
     "data": {
      "text/html": [
       "<div>\n",
       "<table border=\"1\" class=\"dataframe\">\n",
       "  <thead>\n",
       "    <tr style=\"text-align: right;\">\n",
       "      <th></th>\n",
       "      <th>VendorID</th>\n",
       "      <th>Lpep_dropoff_datetime</th>\n",
       "      <th>Store_and_fwd_flag</th>\n",
       "      <th>RateCodeID</th>\n",
       "      <th>Pickup_longitude</th>\n",
       "      <th>Pickup_latitude</th>\n",
       "      <th>Dropoff_longitude</th>\n",
       "      <th>Dropoff_latitude</th>\n",
       "      <th>Passenger_count</th>\n",
       "      <th>Trip_distance</th>\n",
       "      <th>Fare_amount</th>\n",
       "      <th>Extra</th>\n",
       "      <th>MTA_tax</th>\n",
       "      <th>Tip_amount</th>\n",
       "      <th>Tolls_amount</th>\n",
       "      <th>Ehail_fee</th>\n",
       "      <th>improvement_surcharge</th>\n",
       "      <th>Total_amount</th>\n",
       "      <th>Payment_type</th>\n",
       "      <th>Trip_type</th>\n",
       "    </tr>\n",
       "    <tr>\n",
       "      <th>lpep_pickup_datetime</th>\n",
       "      <th></th>\n",
       "      <th></th>\n",
       "      <th></th>\n",
       "      <th></th>\n",
       "      <th></th>\n",
       "      <th></th>\n",
       "      <th></th>\n",
       "      <th></th>\n",
       "      <th></th>\n",
       "      <th></th>\n",
       "      <th></th>\n",
       "      <th></th>\n",
       "      <th></th>\n",
       "      <th></th>\n",
       "      <th></th>\n",
       "      <th></th>\n",
       "      <th></th>\n",
       "      <th></th>\n",
       "      <th></th>\n",
       "      <th></th>\n",
       "    </tr>\n",
       "  </thead>\n",
       "  <tbody>\n",
       "    <tr>\n",
       "      <th>2016-01-01 00:29:24</th>\n",
       "      <td>2</td>\n",
       "      <td>2016-01-01 00:39:36</td>\n",
       "      <td>N</td>\n",
       "      <td>1</td>\n",
       "      <td>-73.928642</td>\n",
       "      <td>40.680611</td>\n",
       "      <td>-73.924278</td>\n",
       "      <td>40.698044</td>\n",
       "      <td>1</td>\n",
       "      <td>1.46</td>\n",
       "      <td>8.0</td>\n",
       "      <td>0.5</td>\n",
       "      <td>0.5</td>\n",
       "      <td>1.86</td>\n",
       "      <td>0.0</td>\n",
       "      <td>NaN</td>\n",
       "      <td>0.3</td>\n",
       "      <td>11.16</td>\n",
       "      <td>1</td>\n",
       "      <td>1.0</td>\n",
       "    </tr>\n",
       "    <tr>\n",
       "      <th>2016-01-01 00:19:39</th>\n",
       "      <td>2</td>\n",
       "      <td>2016-01-01 00:39:18</td>\n",
       "      <td>N</td>\n",
       "      <td>1</td>\n",
       "      <td>-73.952675</td>\n",
       "      <td>40.723175</td>\n",
       "      <td>-73.923920</td>\n",
       "      <td>40.761379</td>\n",
       "      <td>1</td>\n",
       "      <td>3.56</td>\n",
       "      <td>15.5</td>\n",
       "      <td>0.5</td>\n",
       "      <td>0.5</td>\n",
       "      <td>0.00</td>\n",
       "      <td>0.0</td>\n",
       "      <td>NaN</td>\n",
       "      <td>0.3</td>\n",
       "      <td>16.80</td>\n",
       "      <td>2</td>\n",
       "      <td>1.0</td>\n",
       "    </tr>\n",
       "    <tr>\n",
       "      <th>2016-01-01 00:19:33</th>\n",
       "      <td>2</td>\n",
       "      <td>2016-01-01 00:39:48</td>\n",
       "      <td>N</td>\n",
       "      <td>1</td>\n",
       "      <td>-73.971611</td>\n",
       "      <td>40.676105</td>\n",
       "      <td>-74.013161</td>\n",
       "      <td>40.646072</td>\n",
       "      <td>1</td>\n",
       "      <td>3.79</td>\n",
       "      <td>16.5</td>\n",
       "      <td>0.5</td>\n",
       "      <td>0.5</td>\n",
       "      <td>4.45</td>\n",
       "      <td>0.0</td>\n",
       "      <td>NaN</td>\n",
       "      <td>0.3</td>\n",
       "      <td>22.25</td>\n",
       "      <td>1</td>\n",
       "      <td>1.0</td>\n",
       "    </tr>\n",
       "    <tr>\n",
       "      <th>2016-01-01 00:22:12</th>\n",
       "      <td>2</td>\n",
       "      <td>2016-01-01 00:38:32</td>\n",
       "      <td>N</td>\n",
       "      <td>1</td>\n",
       "      <td>-73.989502</td>\n",
       "      <td>40.669579</td>\n",
       "      <td>-74.000648</td>\n",
       "      <td>40.689034</td>\n",
       "      <td>1</td>\n",
       "      <td>3.01</td>\n",
       "      <td>13.5</td>\n",
       "      <td>0.5</td>\n",
       "      <td>0.5</td>\n",
       "      <td>0.00</td>\n",
       "      <td>0.0</td>\n",
       "      <td>NaN</td>\n",
       "      <td>0.3</td>\n",
       "      <td>14.80</td>\n",
       "      <td>2</td>\n",
       "      <td>1.0</td>\n",
       "    </tr>\n",
       "    <tr>\n",
       "      <th>2016-01-01 00:24:01</th>\n",
       "      <td>2</td>\n",
       "      <td>2016-01-01 00:39:22</td>\n",
       "      <td>N</td>\n",
       "      <td>1</td>\n",
       "      <td>-73.964729</td>\n",
       "      <td>40.682854</td>\n",
       "      <td>-73.940720</td>\n",
       "      <td>40.663013</td>\n",
       "      <td>1</td>\n",
       "      <td>2.55</td>\n",
       "      <td>12.0</td>\n",
       "      <td>0.5</td>\n",
       "      <td>0.5</td>\n",
       "      <td>0.00</td>\n",
       "      <td>0.0</td>\n",
       "      <td>NaN</td>\n",
       "      <td>0.3</td>\n",
       "      <td>13.30</td>\n",
       "      <td>2</td>\n",
       "      <td>1.0</td>\n",
       "    </tr>\n",
       "    <tr>\n",
       "      <th>2016-01-01 00:32:59</th>\n",
       "      <td>2</td>\n",
       "      <td>2016-01-01 00:39:35</td>\n",
       "      <td>N</td>\n",
       "      <td>1</td>\n",
       "      <td>-73.891144</td>\n",
       "      <td>40.746456</td>\n",
       "      <td>-73.867744</td>\n",
       "      <td>40.742111</td>\n",
       "      <td>1</td>\n",
       "      <td>1.37</td>\n",
       "      <td>7.0</td>\n",
       "      <td>0.5</td>\n",
       "      <td>0.5</td>\n",
       "      <td>0.00</td>\n",
       "      <td>0.0</td>\n",
       "      <td>NaN</td>\n",
       "      <td>0.3</td>\n",
       "      <td>8.30</td>\n",
       "      <td>2</td>\n",
       "      <td>1.0</td>\n",
       "    </tr>\n",
       "    <tr>\n",
       "      <th>2016-01-01 00:34:42</th>\n",
       "      <td>2</td>\n",
       "      <td>2016-01-01 00:39:21</td>\n",
       "      <td>N</td>\n",
       "      <td>1</td>\n",
       "      <td>-73.896675</td>\n",
       "      <td>40.746197</td>\n",
       "      <td>-73.886192</td>\n",
       "      <td>40.745689</td>\n",
       "      <td>1</td>\n",
       "      <td>0.57</td>\n",
       "      <td>5.0</td>\n",
       "      <td>0.5</td>\n",
       "      <td>0.5</td>\n",
       "      <td>0.00</td>\n",
       "      <td>0.0</td>\n",
       "      <td>NaN</td>\n",
       "      <td>0.3</td>\n",
       "      <td>6.30</td>\n",
       "      <td>2</td>\n",
       "      <td>1.0</td>\n",
       "    </tr>\n",
       "    <tr>\n",
       "      <th>2016-01-01 00:31:23</th>\n",
       "      <td>2</td>\n",
       "      <td>2016-01-01 00:39:36</td>\n",
       "      <td>N</td>\n",
       "      <td>1</td>\n",
       "      <td>-73.953354</td>\n",
       "      <td>40.803558</td>\n",
       "      <td>-73.949150</td>\n",
       "      <td>40.794121</td>\n",
       "      <td>1</td>\n",
       "      <td>1.01</td>\n",
       "      <td>7.0</td>\n",
       "      <td>0.5</td>\n",
       "      <td>0.5</td>\n",
       "      <td>0.00</td>\n",
       "      <td>0.0</td>\n",
       "      <td>NaN</td>\n",
       "      <td>0.3</td>\n",
       "      <td>8.30</td>\n",
       "      <td>2</td>\n",
       "      <td>1.0</td>\n",
       "    </tr>\n",
       "    <tr>\n",
       "      <th>2016-01-01 00:24:40</th>\n",
       "      <td>2</td>\n",
       "      <td>2016-01-01 00:39:52</td>\n",
       "      <td>N</td>\n",
       "      <td>1</td>\n",
       "      <td>-73.994064</td>\n",
       "      <td>40.702816</td>\n",
       "      <td>-73.971573</td>\n",
       "      <td>40.679726</td>\n",
       "      <td>1</td>\n",
       "      <td>2.46</td>\n",
       "      <td>12.0</td>\n",
       "      <td>0.5</td>\n",
       "      <td>0.5</td>\n",
       "      <td>2.00</td>\n",
       "      <td>0.0</td>\n",
       "      <td>NaN</td>\n",
       "      <td>0.3</td>\n",
       "      <td>15.30</td>\n",
       "      <td>1</td>\n",
       "      <td>1.0</td>\n",
       "    </tr>\n",
       "    <tr>\n",
       "      <th>2016-01-01 00:28:59</th>\n",
       "      <td>2</td>\n",
       "      <td>2016-01-01 00:39:23</td>\n",
       "      <td>N</td>\n",
       "      <td>1</td>\n",
       "      <td>-73.914131</td>\n",
       "      <td>40.756641</td>\n",
       "      <td>-73.917549</td>\n",
       "      <td>40.739658</td>\n",
       "      <td>1</td>\n",
       "      <td>1.61</td>\n",
       "      <td>9.0</td>\n",
       "      <td>0.5</td>\n",
       "      <td>0.5</td>\n",
       "      <td>1.60</td>\n",
       "      <td>0.0</td>\n",
       "      <td>NaN</td>\n",
       "      <td>0.3</td>\n",
       "      <td>11.90</td>\n",
       "      <td>1</td>\n",
       "      <td>1.0</td>\n",
       "    </tr>\n",
       "  </tbody>\n",
       "</table>\n",
       "</div>"
      ],
      "text/plain": [
       "                      VendorID Lpep_dropoff_datetime Store_and_fwd_flag  \\\n",
       "lpep_pickup_datetime                                                      \n",
       "2016-01-01 00:29:24          2   2016-01-01 00:39:36                  N   \n",
       "2016-01-01 00:19:39          2   2016-01-01 00:39:18                  N   \n",
       "2016-01-01 00:19:33          2   2016-01-01 00:39:48                  N   \n",
       "2016-01-01 00:22:12          2   2016-01-01 00:38:32                  N   \n",
       "2016-01-01 00:24:01          2   2016-01-01 00:39:22                  N   \n",
       "2016-01-01 00:32:59          2   2016-01-01 00:39:35                  N   \n",
       "2016-01-01 00:34:42          2   2016-01-01 00:39:21                  N   \n",
       "2016-01-01 00:31:23          2   2016-01-01 00:39:36                  N   \n",
       "2016-01-01 00:24:40          2   2016-01-01 00:39:52                  N   \n",
       "2016-01-01 00:28:59          2   2016-01-01 00:39:23                  N   \n",
       "\n",
       "                      RateCodeID  Pickup_longitude  Pickup_latitude  \\\n",
       "lpep_pickup_datetime                                                  \n",
       "2016-01-01 00:29:24            1        -73.928642        40.680611   \n",
       "2016-01-01 00:19:39            1        -73.952675        40.723175   \n",
       "2016-01-01 00:19:33            1        -73.971611        40.676105   \n",
       "2016-01-01 00:22:12            1        -73.989502        40.669579   \n",
       "2016-01-01 00:24:01            1        -73.964729        40.682854   \n",
       "2016-01-01 00:32:59            1        -73.891144        40.746456   \n",
       "2016-01-01 00:34:42            1        -73.896675        40.746197   \n",
       "2016-01-01 00:31:23            1        -73.953354        40.803558   \n",
       "2016-01-01 00:24:40            1        -73.994064        40.702816   \n",
       "2016-01-01 00:28:59            1        -73.914131        40.756641   \n",
       "\n",
       "                      Dropoff_longitude  Dropoff_latitude  Passenger_count  \\\n",
       "lpep_pickup_datetime                                                         \n",
       "2016-01-01 00:29:24          -73.924278         40.698044                1   \n",
       "2016-01-01 00:19:39          -73.923920         40.761379                1   \n",
       "2016-01-01 00:19:33          -74.013161         40.646072                1   \n",
       "2016-01-01 00:22:12          -74.000648         40.689034                1   \n",
       "2016-01-01 00:24:01          -73.940720         40.663013                1   \n",
       "2016-01-01 00:32:59          -73.867744         40.742111                1   \n",
       "2016-01-01 00:34:42          -73.886192         40.745689                1   \n",
       "2016-01-01 00:31:23          -73.949150         40.794121                1   \n",
       "2016-01-01 00:24:40          -73.971573         40.679726                1   \n",
       "2016-01-01 00:28:59          -73.917549         40.739658                1   \n",
       "\n",
       "                      Trip_distance  Fare_amount  Extra  MTA_tax  Tip_amount  \\\n",
       "lpep_pickup_datetime                                                           \n",
       "2016-01-01 00:29:24            1.46          8.0    0.5      0.5        1.86   \n",
       "2016-01-01 00:19:39            3.56         15.5    0.5      0.5        0.00   \n",
       "2016-01-01 00:19:33            3.79         16.5    0.5      0.5        4.45   \n",
       "2016-01-01 00:22:12            3.01         13.5    0.5      0.5        0.00   \n",
       "2016-01-01 00:24:01            2.55         12.0    0.5      0.5        0.00   \n",
       "2016-01-01 00:32:59            1.37          7.0    0.5      0.5        0.00   \n",
       "2016-01-01 00:34:42            0.57          5.0    0.5      0.5        0.00   \n",
       "2016-01-01 00:31:23            1.01          7.0    0.5      0.5        0.00   \n",
       "2016-01-01 00:24:40            2.46         12.0    0.5      0.5        2.00   \n",
       "2016-01-01 00:28:59            1.61          9.0    0.5      0.5        1.60   \n",
       "\n",
       "                      Tolls_amount  Ehail_fee  improvement_surcharge  \\\n",
       "lpep_pickup_datetime                                                   \n",
       "2016-01-01 00:29:24            0.0        NaN                    0.3   \n",
       "2016-01-01 00:19:39            0.0        NaN                    0.3   \n",
       "2016-01-01 00:19:33            0.0        NaN                    0.3   \n",
       "2016-01-01 00:22:12            0.0        NaN                    0.3   \n",
       "2016-01-01 00:24:01            0.0        NaN                    0.3   \n",
       "2016-01-01 00:32:59            0.0        NaN                    0.3   \n",
       "2016-01-01 00:34:42            0.0        NaN                    0.3   \n",
       "2016-01-01 00:31:23            0.0        NaN                    0.3   \n",
       "2016-01-01 00:24:40            0.0        NaN                    0.3   \n",
       "2016-01-01 00:28:59            0.0        NaN                    0.3   \n",
       "\n",
       "                      Total_amount  Payment_type  Trip_type   \n",
       "lpep_pickup_datetime                                          \n",
       "2016-01-01 00:29:24          11.16             1         1.0  \n",
       "2016-01-01 00:19:39          16.80             2         1.0  \n",
       "2016-01-01 00:19:33          22.25             1         1.0  \n",
       "2016-01-01 00:22:12          14.80             2         1.0  \n",
       "2016-01-01 00:24:01          13.30             2         1.0  \n",
       "2016-01-01 00:32:59           8.30             2         1.0  \n",
       "2016-01-01 00:34:42           6.30             2         1.0  \n",
       "2016-01-01 00:31:23           8.30             2         1.0  \n",
       "2016-01-01 00:24:40          15.30             1         1.0  \n",
       "2016-01-01 00:28:59          11.90             1         1.0  "
      ]
     },
     "execution_count": 2,
     "metadata": {},
     "output_type": "execute_result"
    }
   ],
   "source": [
    "first_ten=trips.head(10)\n",
    "first_ten"
   ]
  },
  {
   "cell_type": "code",
   "execution_count": 3,
   "metadata": {
    "collapsed": false
   },
   "outputs": [
    {
     "data": {
      "text/plain": [
       "<matplotlib.axes._subplots.AxesSubplot at 0x114e5e908>"
      ]
     },
     "execution_count": 3,
     "metadata": {},
     "output_type": "execute_result"
    },
    {
     "data": {
      "image/png": "[encoded data removed]",
      "text/plain": [
       "<matplotlib.figure.Figure at 0x12b14d828>"
      ]
     },
     "metadata": {},
     "output_type": "display_data"
    }
   ],
   "source": [
    "trips.Total_amount.resample('D').count().plot()\n",
    "## Was thete cab driver's strike on Jan 23?'''\n",
    "## Google search revealed there was a big snow strom Jan 23 & 24, 2016"
   ]
  },
  {
   "cell_type": "code",
   "execution_count": 4,
   "metadata": {
    "collapsed": false
   },
   "outputs": [
    {
     "data": {
      "text/plain": [
       "'People use taxi more on Fridays'"
      ]
     },
     "execution_count": 4,
     "metadata": {},
     "output_type": "execute_result"
    },
    {
     "data": {
      "image/png": "[encoded data removed]",
      "text/plain": [
       "<matplotlib.figure.Figure at 0x12f9865c0>"
      ]
     },
     "metadata": {},
     "output_type": "display_data"
    }
   ],
   "source": [
    "trips.groupby(trips.index.dayofweek)['Total_amount'].count().plot()## number of trips each weekday\n",
    "'''People use taxi more on Fridays'''"
   ]
  },
  {
   "cell_type": "code",
   "execution_count": 5,
   "metadata": {
    "collapsed": false
   },
   "outputs": [
    {
     "data": {
      "text/plain": [
       "<matplotlib.text.Text at 0x1294d24a8>"
      ]
     },
     "execution_count": 5,
     "metadata": {},
     "output_type": "execute_result"
    },
    {
     "data": {
      "image/png": "[encoded data removed]",
      "text/plain": [
       "<matplotlib.figure.Figure at 0x12cb45b00>"
      ]
     },
     "metadata": {},
     "output_type": "display_data"
    }
   ],
   "source": [
    "ax=trips.groupby(trips.index.hour)['Total_amount'].mean().plot()\n",
    "ax.set_title('Average trips cost per each hour')"
   ]
  },
  {
   "cell_type": "code",
   "execution_count": 6,
   "metadata": {
    "collapsed": false
   },
   "outputs": [
    {
     "data": {
      "text/plain": [
       "<matplotlib.text.Text at 0x123674160>"
      ]
     },
     "execution_count": 6,
     "metadata": {},
     "output_type": "execute_result"
    },
    {
     "data": {
      "image/png": "[encoded data removed]",
      "text/plain": [
       "<matplotlib.figure.Figure at 0x126154908>"
      ]
     },
     "metadata": {},
     "output_type": "display_data"
    }
   ],
   "source": [
    "fig,ax=plt.subplots(1,2,figsize=(14,6))\n",
    "trips.groupby(trips.index.dayofweek)['Tip_amount'].mean().plot(ax=ax[0])\n",
    "trips.groupby(trips.index.dayofweek)['Total_amount'].mean().plot(ax=ax[1])\n",
    "ax[0].set_title('Average tip per each weekday')\n",
    "ax[1].set_title('Average trip cost per each weekday')\n",
    "##Thursday and Sunay bring the most tips"
   ]
  },
  {
   "cell_type": "code",
   "execution_count": 7,
   "metadata": {
    "collapsed": false
   },
   "outputs": [
    {
     "data": {
      "text/plain": [
       "' 1= Credit card\\n    2= Cash\\n    3= No charge\\n    4= Dispute\\n    5= Unknown\\n    6= Voided trip'"
      ]
     },
     "execution_count": 7,
     "metadata": {},
     "output_type": "execute_result"
    },
    {
     "data": {
      "image/png": "[encoded data removed]",
      "text/plain": [
       "<matplotlib.figure.Figure at 0x1294dfcf8>"
      ]
     },
     "metadata": {},
     "output_type": "display_data"
    }
   ],
   "source": [
    "trips.groupby('Payment_type')['Total_amount'].sum().T.plot('bar')\n",
    "''' 1= Credit card\n",
    "    2= Cash\n",
    "    3= No charge\n",
    "    4= Dispute\n",
    "    5= Unknown\n",
    "    6= Voided trip'''"
   ]
  },
  {
   "cell_type": "code",
   "execution_count": 8,
   "metadata": {
    "collapsed": false
   },
   "outputs": [
    {
     "data": {
      "text/plain": [
       "count    1.445285e+06\n",
       "mean     2.757192e+00\n",
       "std      2.953487e+00\n",
       "min      0.000000e+00\n",
       "25%      1.000000e+00\n",
       "50%      1.800000e+00\n",
       "75%      3.450000e+00\n",
       "max      3.605000e+02\n",
       "Name: Trip_distance, dtype: float64"
      ]
     },
     "execution_count": 8,
     "metadata": {},
     "output_type": "execute_result"
    }
   ],
   "source": [
    "trips.Trip_distance.describe()"
   ]
  },
  {
   "cell_type": "code",
   "execution_count": 9,
   "metadata": {
    "collapsed": false
   },
   "outputs": [
    {
     "data": {
      "text/plain": [
       "<matplotlib.axes._subplots.AxesSubplot at 0x11a3219e8>"
      ]
     },
     "execution_count": 9,
     "metadata": {},
     "output_type": "execute_result"
    },
    {
     "data": {
      "image/png": "[encoded data removed]",
      "text/plain": [
       "<matplotlib.figure.Figure at 0x1296f7d30>"
      ]
     },
     "metadata": {},
     "output_type": "display_data"
    }
   ],
   "source": [
    "distance_by_weekday=trips.groupby(trips.index.dayofweek)['Trip_distance'].mean()\n",
    "distance_by_weekday.index=['Mon','Tues','Wed','Thur','Fri','Sat','Sun']\n",
    "distance_by_weekday.plot(kind='bar')"
   ]
  },
  {
   "cell_type": "code",
   "execution_count": 40,
   "metadata": {
    "collapsed": false
   },
   "outputs": [],
   "source": [
    "import mplleaflet\n",
    "def plot_path(coords):\n",
    "    x_coords = [coord[1] for coord in coords] \n",
    "    y_coords = [coord[0] for coord in coords]\n",
    "    plt.plot(x_coords, y_coords, 'r',linewidth=4.0)\n",
    "    mplleaflet.show()"
   ]
  },
  {
   "cell_type": "code",
   "execution_count": 11,
   "metadata": {
    "collapsed": false
   },
   "outputs": [],
   "source": [
    "import googlemaps\n",
    "import os\n",
    "import json\n",
    "from polyline.codec import PolylineCodec\n",
    "\n",
    "path = '/Users/anastasiaclark/Desktop/MyStaff/credentials/google_maps_api_key.json'\n",
    "my_key = json.load(open(path))['key']\n",
    "gmaps = googlemaps.Client(key=my_key)"
   ]
  },
  {
   "cell_type": "code",
   "execution_count": 12,
   "metadata": {
    "collapsed": false
   },
   "outputs": [],
   "source": [
    "def get_trip_path(start, end, client):\n",
    "    req = client.directions(start, end, mode='driving')\n",
    "    polylines = [step['polyline']['points'] for step in [leg['steps'] for leg in req[0]['legs']][0]]\n",
    "    coords = []\n",
    "    for polyline in polylines:\n",
    "        coords += PolylineCodec().decode(polyline)\n",
    "    return coords"
   ]
  },
  {
   "cell_type": "code",
   "execution_count": 41,
   "metadata": {
    "collapsed": false
   },
   "outputs": [],
   "source": [
    "ten_paths=[]\n",
    "for row in first_ten.itertuples():\n",
    "    one_path = get_trip_path([row.Pickup_latitude,row.Pickup_longitude], [row.Dropoff_latitude,row.Dropoff_longitude], gmaps) # actual path from the data\n",
    "    ten_paths.append(one_path)\n",
    "plot_path(ten_paths[1])"
   ]
  }
 ],
 "metadata": {
  "kernelspec": {
   "display_name": "Python 3",
   "language": "python",
   "name": "python3"
  },
  "language_info": {
   "codemirror_mode": {
    "name": "ipython",
    "version": 3
   },
   "file_extension": ".py",
   "mimetype": "text/x-python",
   "name": "python",
   "nbconvert_exporter": "python",
   "pygments_lexer": "ipython3",
   "version": "3.6.0"
  }
 },
 "nbformat": 4,
 "nbformat_minor": 2
}
